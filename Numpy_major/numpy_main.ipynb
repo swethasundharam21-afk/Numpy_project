{
  "cells": [
    {
      "cell_type": "code",
      "execution_count": 2,
      "metadata": {
        "colab": {
          "base_uri": "https://localhost:8080/",
          "height": 106
        },
        "id": "JjiC40ekaX9O",
        "outputId": "614455aa-35c6-4e52-fcd8-e1713ffa43b4"
      },
      "outputs": [
        {
          "output_type": "error",
          "ename": "SyntaxError",
          "evalue": "invalid character '’' (U+2019) (ipython-input-3032959253.py, line 1)",
          "traceback": [
            "\u001b[0;36m  File \u001b[0;32m\"/tmp/ipython-input-3032959253.py\"\u001b[0;36m, line \u001b[0;32m1\u001b[0m\n\u001b[0;31m    Here’s the full text content from the image you uploaded:\u001b[0m\n\u001b[0m        ^\u001b[0m\n\u001b[0;31mSyntaxError\u001b[0m\u001b[0;31m:\u001b[0m invalid character '’' (U+2019)\n"
          ]
        }
      ],
      "source": [
        "Here’s the full text content from the image you uploaded:\n",
        "\n",
        "📚 NumPy Mathematical Calculator 🧠 Objective: To build a Python-based calculator using the NumPy library that performs:\n",
        "\n",
        "Basic arithmetic operations Statistical analysis Array manipulation This project helps students understand how NumPy is used in real-world numerical computing tasks.\n",
        "\n",
        "🧰 Key Features:\n",
        "\n",
        "1. Basic Arithmetic Operations Addition, Subtraction, Multiplication, Division Power operations between two arrays\n",
        "2. Statistical Operations Mean, Median, Standard Deviation, Variance Minimum, Maximum, Sum, Product Shape, Size, and Data Type\n",
        "3. Array Manipulation Reshaping arrays (when possible) Sorting and Reverse Sorting Unique value extraction Accessing first and last elements Filtering values greater than the mean"
      ]
    },
    {
      "cell_type": "code",
      "execution_count": 4,
      "metadata": {
        "id": "LQXUcwRjapEp"
      },
      "outputs": [],
      "source": [
        "import numpy as np"
      ]
    },
    {
      "cell_type": "code",
      "execution_count": 5,
      "metadata": {
        "id": "B3SZdxp-cM7-"
      },
      "outputs": [],
      "source": [
        "import array as arr"
      ]
    },
    {
      "cell_type": "code",
      "execution_count": null,
      "metadata": {
        "colab": {
          "base_uri": "https://localhost:8080/"
        },
        "id": "HPPBBJg_cQUB",
        "outputId": "0ac069f9-396d-4ed5-cc9a-c430e1c488be"
      },
      "outputs": [
        {
          "metadata": {
            "tags": null
          },
          "name": "stdout",
          "output_type": "stream",
          "text": [
            "\n",
            "==================================================\n",
            "               🧮 NumPy Calculator 🧮               \n",
            "==================================================\n",
            "\n",
            "Choose an option:\n",
            "1. Arithmetic Operations\n",
            "2. Statistical Operations\n",
            "3. Array Manipulation\n",
            "4. Exit\n",
            "\n",
            "\n",
            "\n",
            "\n",
            "--------------------------------------------------\n",
            "           BASIC ARITHMETIC OPERATIONS            \n",
            "--------------------------------------------------\n",
            "Addition: [5.]\n",
            "Subtraction: [-1.]\n",
            "Multiplication: [6.]\n",
            "Division: [0.66666667]\n",
            "Power: [8.]\n",
            "\n",
            "\n",
            "\n",
            "==================================================\n",
            "               🧮 NumPy Calculator 🧮               \n",
            "==================================================\n",
            "\n",
            "Choose an option:\n",
            "1. Arithmetic Operations\n",
            "2. Statistical Operations\n",
            "3. Array Manipulation\n",
            "4. Exit\n",
            "\n",
            "\n",
            "\n",
            "\n",
            "--------------------------------------------------\n",
            "              STATISTICAL OPERATIONS              \n",
            "--------------------------------------------------\n",
            "Mean: 1.0\n",
            "Median: 1.0\n",
            "Standard Deviation: 0.0\n",
            "Variance: 0.0\n",
            "Minimum: 1.0\n",
            "Maximum: 1.0\n",
            "Sum: 1.0\n",
            "Product: 1.0\n",
            "Shape: (1,)\n",
            "Size: 1\n",
            "Datatype: float64\n",
            "\n",
            "\n",
            "\n",
            "==================================================\n",
            "               🧮 NumPy Calculator 🧮               \n",
            "==================================================\n",
            "\n",
            "Choose an option:\n",
            "1. Arithmetic Operations\n",
            "2. Statistical Operations\n",
            "3. Array Manipulation\n",
            "4. Exit\n",
            "\n",
            "\n",
            "\n",
            "\n",
            "--------------------------------------------------\n",
            "           BASIC ARITHMETIC OPERATIONS            \n",
            "--------------------------------------------------\n"
          ]
        }
      ],
      "source": [
        "def clear_screen():\n",
        "    # Simple universal clear (adds blank lines to push old output away)\n",
        "    print(\"\\n\" * 1)\n",
        "\n",
        "class Calculator:\n",
        "\n",
        "    @staticmethod\n",
        "    def ArithmeticOperations():\n",
        "        clear_screen()\n",
        "        print(\"\\n\" + \"-\"*50)\n",
        "        print(\" BASIC ARITHMETIC OPERATIONS \".center(50))\n",
        "        print(\"-\"*50)\n",
        "\n",
        "        arr1 = np.array((input(\"Enter value 1: \").split())).astype(float)\n",
        "        arr2 = np.array((input(\"Enter value 2: \").split())).astype(float)\n",
        "\n",
        "        print(\"Addition:\", np.add(arr1, arr2))\n",
        "        print(\"Subtraction:\", np.subtract(arr1, arr2))\n",
        "        print(\"Multiplication:\", np.multiply(arr1, arr2))\n",
        "        print(\"Division:\", np.divide(arr1, arr2))\n",
        "        print(\"Power:\", np.power(arr1, arr2))\n",
        "\n",
        "        input(\"\\nPress Enter to return to the main menu...\")\n",
        "        clear_screen()\n",
        "\n",
        "    @staticmethod\n",
        "    def StatisticalOperations():\n",
        "        clear_screen()\n",
        "        print(\"\\n\"+ \"-\"*50)\n",
        "        print(\" STATISTICAL OPERATIONS \".center(50))\n",
        "        print(\"-\"*50)\n",
        "\n",
        "        arr3 = np.array((input(\"Enter value : \").split())).astype(float)\n",
        "\n",
        "        print(\"Mean:\", np.mean(arr3))\n",
        "        print(\"Median:\", np.median(arr3))\n",
        "        print(\"Standard Deviation:\", np.std(arr3))\n",
        "        print(\"Variance:\", np.var(arr3))\n",
        "        print(\"Minimum:\", np.min(arr3))\n",
        "        print(\"Maximum:\", np.max(arr3))\n",
        "        print(\"Sum:\", np.sum(arr3))\n",
        "        print(\"Product:\", np.prod(arr3))\n",
        "        print(\"Shape:\", arr3.shape)\n",
        "        print(\"Size:\", arr3.size)\n",
        "        print(\"Datatype:\", arr3.dtype)\n",
        "\n",
        "        input(\"\\nPress Enter to return to the main menu...\")\n",
        "        clear_screen()\n",
        "\n",
        "    @staticmethod\n",
        "    def ArrayManipulation():\n",
        "        clear_screen()\n",
        "        print(\"\\n\"+\"-\"*50)\n",
        "        print(\" ARRAY MANIPULATION \".center(50))\n",
        "        print(\"-\"*50)\n",
        "\n",
        "        arr4 = np.array((input(\"Enter value : \").split())).astype(float)\n",
        "\n",
        "        print(\"Original Array:\", arr4)\n",
        "        print(\"Sorted Array:\", np.sort(arr4))\n",
        "        print(\"Reversed Array:\", np.sort(arr4)[::-1])\n",
        "        print(\"Unique Values:\", np.unique(arr4))\n",
        "        print(\"First Element:\", arr4[0])\n",
        "        print(\"Last Element:\", arr4[-1])\n",
        "\n",
        "        input(\"\\nPress Enter to return to the main menu...\")\n",
        "        clear_screen()\n",
        "\n",
        "\n",
        "# ---------------- MAIN MENU LOOP -----------------\n",
        "while True:\n",
        "    print(\"\\n\" + \"=\"*50)\n",
        "    print(\" 🧮 NumPy Calculator 🧮 \".center(50))\n",
        "    print(\"=\"*50)\n",
        "\n",
        "    print(\"\\nChoose an option:\")\n",
        "    print(\"1. Arithmetic Operations\")\n",
        "    print(\"2. Statistical Operations\")\n",
        "    print(\"3. Array Manipulation\")\n",
        "    print(\"4. Exit\\n\")\n",
        "\n",
        "    choice = input(\"Enter your choice (1-4): \").strip()\n",
        "\n",
        "    if choice == \"1\":\n",
        "        Calculator.ArithmeticOperations()\n",
        "    elif choice == \"2\":\n",
        "        Calculator.StatisticalOperations()\n",
        "    elif choice == \"3\":\n",
        "        Calculator.ArrayManipulation()\n",
        "    elif choice == \"4\":\n",
        "        clear_screen()\n",
        "        print(\"\\nThank you for using NumPy Calculator! 👋\")\n",
        "        break\n",
        "    else:\n",
        "        print(\"\\n❌ Invalid choice. Please enter a number between 1 and 4.\")\n"
      ]
    }
  ],
  "metadata": {
    "colab": {
      "provenance": []
    },
    "kernelspec": {
      "display_name": "Python 3",
      "name": "python3"
    },
    "language_info": {
      "name": "python"
    }
  },
  "nbformat": 4,
  "nbformat_minor": 0
}