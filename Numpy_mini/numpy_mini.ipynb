{
  "nbformat": 4,
  "nbformat_minor": 0,
  "metadata": {
    "colab": {
      "provenance": []
    },
    "kernelspec": {
      "name": "python3",
      "display_name": "Python 3"
    },
    "language_info": {
      "name": "python"
    }
  },
  "cells": [
    {
      "cell_type": "code",
      "execution_count": 1,
      "metadata": {
        "id": "CjyQGB85qXp7"
      },
      "outputs": [],
      "source": [
        "import numpy as np"
      ]
    },
    {
      "cell_type": "code",
      "source": [
        "Objective:\n",
        "You are working with student marks data and need to prepare and organize it using NumPy arrays.Your goal is to create, modify, and analyze the data efficiently without using any external libraries.\n",
        "\n",
        "🧠 Project Description:\n",
        "A school has recorded the marks of several students in different subjects.You are required to design a NumPy-based solution to store, manage, and process this data.Your tasks involve creating arrays, changing their shapes, combining data, performing modifications, and analyzing patterns — all using NumPy.\n",
        "\n",
        "📋 Project Tasks:\n",
        "**Data Creation:**Create suitable arrays to represent students, subjects, and their marks.\n",
        "\n",
        "**Data Exploration:**Explore the properties of these arrays — such as their dimensions, size, and structure.\n",
        "\n",
        "**Data Transformation:**Perform necessary reshaping and reorganization of the data to suit various operations.\n",
        "\n",
        "**Data Combination:**Merge or split arrays to simulate adding new students, new subjects, or reorganizing the dataset.\n",
        "\n",
        "**Data Modification:**Apply operations to update marks, remove data, or identify unique information.\n",
        "\n",
        "**Data Type Handling:**Demonstrate how the same data can exist in different data types and how changes affect results.\n",
        "\n",
        "**Copy and View Behavior:**Show the difference between creating a full copy of an array and creating a view of the same data\n"
      ],
      "metadata": {
        "id": "zvmfjwMlrc6H"
      },
      "execution_count": null,
      "outputs": []
    },
    {
      "cell_type": "code",
      "source": [
        "#Data Creation\n",
        "import numpy as np\n",
        "students=np.array([\"Alia\", \"Riya\", \"Ram\", \"Priya\", \"Eve\", \"Don\"])\n",
        "subjects=np.array([\"Physics\", \"Chemistry\", \"English\", \"Maths\"])\n",
        "marks=np.array([\n",
        "    [90, 65, 95, 91],\n",
        "    [80, 75, 90, 85],\n",
        "    [95, 89, 94, 87],\n",
        "    [76, 64, 68, 87],\n",
        "    [89, 85, 91, 85],\n",
        "    [88, 71, 60, 40]])\n",
        "print(students)\n",
        "print(subjects)\n",
        "print(marks)"
      ],
      "metadata": {
        "colab": {
          "base_uri": "https://localhost:8080/"
        },
        "id": "SJx0igljrdvN",
        "outputId": "0fef68d4-5900-46d9-f728-cbaa1aaa13b8"
      },
      "execution_count": 2,
      "outputs": [
        {
          "output_type": "stream",
          "name": "stdout",
          "text": [
            "['Alia' 'Riya' 'Ram' 'Priya' 'Eve' 'Don']\n",
            "['Physics' 'Chemistry' 'English' 'Maths']\n",
            "[[90 65 95 91]\n",
            " [80 75 90 85]\n",
            " [95 89 94 87]\n",
            " [76 64 68 87]\n",
            " [89 85 91 85]\n",
            " [88 71 60 40]]\n"
          ]
        }
      ]
    },
    {
      "cell_type": "code",
      "source": [
        "#Data Exploration\n",
        "print(students.ndim)\n",
        "print(subjects.ndim)\n",
        "print(marks.ndim)"
      ],
      "metadata": {
        "colab": {
          "base_uri": "https://localhost:8080/"
        },
        "id": "obReOLourgyz",
        "outputId": "65cb8c2d-c152-43be-d796-ca7751a146f2"
      },
      "execution_count": 3,
      "outputs": [
        {
          "output_type": "stream",
          "name": "stdout",
          "text": [
            "1\n",
            "1\n",
            "2\n"
          ]
        }
      ]
    },
    {
      "cell_type": "code",
      "source": [
        "print(students.size)\n",
        "print(subjects.size)\n",
        "print(marks.size)"
      ],
      "metadata": {
        "colab": {
          "base_uri": "https://localhost:8080/"
        },
        "id": "0QzPOMjYrpZS",
        "outputId": "b8a0a4dd-5f8d-40a7-acd9-2f63f9ed08c8"
      },
      "execution_count": 4,
      "outputs": [
        {
          "output_type": "stream",
          "name": "stdout",
          "text": [
            "6\n",
            "4\n",
            "24\n"
          ]
        }
      ]
    },
    {
      "cell_type": "code",
      "source": [
        "print(students.shape)\n",
        "print(subjects.shape)\n",
        "print(marks.shape)"
      ],
      "metadata": {
        "colab": {
          "base_uri": "https://localhost:8080/"
        },
        "id": "FtnF4uTFruEA",
        "outputId": "20ae40cf-9987-462e-841b-a0e7124dc7bf"
      },
      "execution_count": 5,
      "outputs": [
        {
          "output_type": "stream",
          "name": "stdout",
          "text": [
            "(6,)\n",
            "(4,)\n",
            "(6, 4)\n"
          ]
        }
      ]
    },
    {
      "cell_type": "code",
      "source": [
        "#Data Transformation\n",
        "print(marks.flatten())\n",
        "print(marks.reshape(12,2))\n",
        "print(marks.T)\n",
        "print(np.flip(marks))"
      ],
      "metadata": {
        "colab": {
          "base_uri": "https://localhost:8080/"
        },
        "id": "XThZoNj-ryNl",
        "outputId": "c5a0eb71-283b-4619-c820-9693bbca0d69"
      },
      "execution_count": 6,
      "outputs": [
        {
          "output_type": "stream",
          "name": "stdout",
          "text": [
            "[90 65 95 91 80 75 90 85 95 89 94 87 76 64 68 87 89 85 91 85 88 71 60 40]\n",
            "[[90 65]\n",
            " [95 91]\n",
            " [80 75]\n",
            " [90 85]\n",
            " [95 89]\n",
            " [94 87]\n",
            " [76 64]\n",
            " [68 87]\n",
            " [89 85]\n",
            " [91 85]\n",
            " [88 71]\n",
            " [60 40]]\n",
            "[[90 80 95 76 89 88]\n",
            " [65 75 89 64 85 71]\n",
            " [95 90 94 68 91 60]\n",
            " [91 85 87 87 85 40]]\n",
            "[[40 60 71 88]\n",
            " [85 91 85 89]\n",
            " [87 68 64 76]\n",
            " [87 94 89 95]\n",
            " [85 90 75 80]\n",
            " [91 95 65 90]]\n"
          ]
        }
      ]
    },
    {
      "cell_type": "code",
      "source": [
        "#Data Combination\n",
        "student = np.array(['Alia',\"Riya\",\"Ram\"])\n",
        "marks = np.array([[90, 65, 95, 91],\n",
        "    [80, 75, 90, 85],\n",
        "    [95, 89, 94, 87]])\n",
        "student_1 = np.array([\"Siya\"])\n",
        "marks_1 = np.array([[75,80,90,89]])\n",
        "\n",
        "student = np.concatenate((student,student_1))\n",
        "marks = np.concatenate((marks,marks_1))\n",
        "print(student)\n",
        "print(marks)"
      ],
      "metadata": {
        "colab": {
          "base_uri": "https://localhost:8080/"
        },
        "id": "jBiP-lJCr1kK",
        "outputId": "f36c8099-bac5-4c25-f2f7-b59c2867a6fc"
      },
      "execution_count": 7,
      "outputs": [
        {
          "output_type": "stream",
          "name": "stdout",
          "text": [
            "['Alia' 'Riya' 'Ram' 'Siya']\n",
            "[[90 65 95 91]\n",
            " [80 75 90 85]\n",
            " [95 89 94 87]\n",
            " [75 80 90 89]]\n"
          ]
        }
      ]
    },
    {
      "cell_type": "code",
      "source": [
        "marks=marks.reshape(-1)\n",
        "print(marks)\n",
        "np.split(marks,4)"
      ],
      "metadata": {
        "colab": {
          "base_uri": "https://localhost:8080/"
        },
        "id": "4dN2HOxXr85c",
        "outputId": "71310514-0bf4-4cbc-d822-c489f9fd8a87"
      },
      "execution_count": 8,
      "outputs": [
        {
          "output_type": "stream",
          "name": "stdout",
          "text": [
            "[90 65 95 91 80 75 90 85 95 89 94 87 75 80 90 89]\n"
          ]
        },
        {
          "output_type": "execute_result",
          "data": {
            "text/plain": [
              "[array([90, 65, 95, 91]),\n",
              " array([80, 75, 90, 85]),\n",
              " array([95, 89, 94, 87]),\n",
              " array([75, 80, 90, 89])]"
            ]
          },
          "metadata": {},
          "execution_count": 8
        }
      ]
    },
    {
      "cell_type": "code",
      "source": [
        "#Data Modification\n",
        "marks[4] = 40\n",
        "print(marks)"
      ],
      "metadata": {
        "colab": {
          "base_uri": "https://localhost:8080/"
        },
        "id": "HYR2aAoasAr6",
        "outputId": "bb4a5ebe-f142-4b8d-c610-b53e5e8026ea"
      },
      "execution_count": 9,
      "outputs": [
        {
          "output_type": "stream",
          "name": "stdout",
          "text": [
            "[90 65 95 91 40 75 90 85 95 89 94 87 75 80 90 89]\n"
          ]
        }
      ]
    },
    {
      "cell_type": "code",
      "source": [
        "c=np.delete(marks,4)\n",
        "print(c)"
      ],
      "metadata": {
        "colab": {
          "base_uri": "https://localhost:8080/"
        },
        "id": "m4fbFpKasEZq",
        "outputId": "407c441c-ca7e-46f2-d90f-483f5c843f0d"
      },
      "execution_count": 10,
      "outputs": [
        {
          "output_type": "stream",
          "name": "stdout",
          "text": [
            "[90 65 95 91 75 90 85 95 89 94 87 75 80 90 89]\n"
          ]
        }
      ]
    },
    {
      "cell_type": "code",
      "source": [
        "print(marks)\n",
        "np.unique(marks)"
      ],
      "metadata": {
        "colab": {
          "base_uri": "https://localhost:8080/"
        },
        "id": "Jrm3wAUysIGY",
        "outputId": "1a84b2d8-fbc6-4119-d0d8-e2755980d764"
      },
      "execution_count": 11,
      "outputs": [
        {
          "output_type": "stream",
          "name": "stdout",
          "text": [
            "[90 65 95 91 40 75 90 85 95 89 94 87 75 80 90 89]\n"
          ]
        },
        {
          "output_type": "execute_result",
          "data": {
            "text/plain": [
              "array([40, 65, 75, 80, 85, 87, 89, 90, 91, 94, 95])"
            ]
          },
          "metadata": {},
          "execution_count": 11
        }
      ]
    },
    {
      "cell_type": "code",
      "source": [
        "#Data Type Handling\n",
        "print(marks.dtype)\n",
        "print(marks.astype(dtype=float))\n",
        "print(marks.astype(dtype=str))"
      ],
      "metadata": {
        "colab": {
          "base_uri": "https://localhost:8080/"
        },
        "id": "NBAAogOfsLB3",
        "outputId": "f3c30613-a2b1-4a9e-c798-0215194d7a53"
      },
      "execution_count": 12,
      "outputs": [
        {
          "output_type": "stream",
          "name": "stdout",
          "text": [
            "int64\n",
            "[90. 65. 95. 91. 40. 75. 90. 85. 95. 89. 94. 87. 75. 80. 90. 89.]\n",
            "['90' '65' '95' '91' '40' '75' '90' '85' '95' '89' '94' '87' '75' '80'\n",
            " '90' '89']\n"
          ]
        }
      ]
    },
    {
      "cell_type": "code",
      "source": [
        "#Copy & View Behaviour\n",
        "a = marks.copy()\n",
        "a[0] = 99\n",
        "print(a)"
      ],
      "metadata": {
        "colab": {
          "base_uri": "https://localhost:8080/"
        },
        "id": "R6hdHF9ksRs7",
        "outputId": "4df0ef52-7d2b-46da-f54c-1feede5853d3"
      },
      "execution_count": 13,
      "outputs": [
        {
          "output_type": "stream",
          "name": "stdout",
          "text": [
            "[99 65 95 91 40 75 90 85 95 89 94 87 75 80 90 89]\n"
          ]
        }
      ]
    },
    {
      "cell_type": "code",
      "source": [
        "b = marks.view()\n",
        "b[0] = 100\n",
        "print(marks)"
      ],
      "metadata": {
        "id": "D_lWFczzsWYK",
        "outputId": "89e7ca80-e333-4097-96f6-e6dd2c8edc0d",
        "colab": {
          "base_uri": "https://localhost:8080/"
        }
      },
      "execution_count": 14,
      "outputs": [
        {
          "output_type": "stream",
          "name": "stdout",
          "text": [
            "[100  65  95  91  40  75  90  85  95  89  94  87  75  80  90  89]\n"
          ]
        }
      ]
    }
  ]
}